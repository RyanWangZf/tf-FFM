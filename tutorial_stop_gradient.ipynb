{
 "cells": [
  {
   "cell_type": "code",
   "execution_count": 2,
   "metadata": {},
   "outputs": [],
   "source": [
    "import tensorflow as tf\n",
    "import numpy as np"
   ]
  },
  {
   "cell_type": "code",
   "execution_count": 3,
   "metadata": {},
   "outputs": [],
   "source": [
    "mask = tf.expand_dims(np.array([1,0,1,1.0,0,0,1,1,0,1]),1)\n",
    "mask_h = tf.abs(mask-1)"
   ]
  },
  {
   "cell_type": "code",
   "execution_count": 4,
   "metadata": {},
   "outputs": [],
   "source": [
    "emb = tf.constant(np.ones([10,5]))"
   ]
  },
  {
   "cell_type": "code",
   "execution_count": 5,
   "metadata": {},
   "outputs": [],
   "source": [
    "param = tf.constant(np.random.randn(5,1))"
   ]
  },
  {
   "cell_type": "code",
   "execution_count": 6,
   "metadata": {},
   "outputs": [],
   "source": [
    "mat = tf.stop_gradient(mask * emb) + mask_h * emb"
   ]
  },
  {
   "cell_type": "code",
   "execution_count": 7,
   "metadata": {},
   "outputs": [],
   "source": [
    "loss = tf.reduce_sum(tf.matmul(mat,param))"
   ]
  },
  {
   "cell_type": "code",
   "execution_count": 8,
   "metadata": {},
   "outputs": [],
   "source": [
    "grad_1 = tf.gradients(loss,emb)\n",
    "grad_2 = tf.gradients(loss,mat)"
   ]
  },
  {
   "cell_type": "code",
   "execution_count": 9,
   "metadata": {},
   "outputs": [
    {
     "data": {
      "text/plain": [
       "-5.817412170034409"
      ]
     },
     "execution_count": 9,
     "metadata": {},
     "output_type": "execute_result"
    }
   ],
   "source": [
    "sess = tf.Session()\n",
    "sess.run(loss)"
   ]
  },
  {
   "cell_type": "code",
   "execution_count": 10,
   "metadata": {},
   "outputs": [
    {
     "data": {
      "text/plain": [
       "[array([[-0.        , -0.        , -0.        , -0.        ,  0.        ],\n",
       "        [-1.02902739, -0.0368325 , -1.19542274, -0.2362464 ,  1.91578781],\n",
       "        [-0.        , -0.        , -0.        , -0.        ,  0.        ],\n",
       "        [-0.        , -0.        , -0.        , -0.        ,  0.        ],\n",
       "        [-1.02902739, -0.0368325 , -1.19542274, -0.2362464 ,  1.91578781],\n",
       "        [-1.02902739, -0.0368325 , -1.19542274, -0.2362464 ,  1.91578781],\n",
       "        [-0.        , -0.        , -0.        , -0.        ,  0.        ],\n",
       "        [-0.        , -0.        , -0.        , -0.        ,  0.        ],\n",
       "        [-1.02902739, -0.0368325 , -1.19542274, -0.2362464 ,  1.91578781],\n",
       "        [-0.        , -0.        , -0.        , -0.        , -0.        ]])]"
      ]
     },
     "execution_count": 10,
     "metadata": {},
     "output_type": "execute_result"
    }
   ],
   "source": [
    "sess.run(grad_1)"
   ]
  },
  {
   "cell_type": "code",
   "execution_count": 11,
   "metadata": {},
   "outputs": [
    {
     "data": {
      "text/plain": [
       "[array([[-1.02902739, -0.0368325 , -1.19542274, -0.2362464 ,  1.91578781],\n",
       "        [-1.02902739, -0.0368325 , -1.19542274, -0.2362464 ,  1.91578781],\n",
       "        [-1.02902739, -0.0368325 , -1.19542274, -0.2362464 ,  1.91578781],\n",
       "        [-1.02902739, -0.0368325 , -1.19542274, -0.2362464 ,  1.91578781],\n",
       "        [-1.02902739, -0.0368325 , -1.19542274, -0.2362464 ,  1.91578781],\n",
       "        [-1.02902739, -0.0368325 , -1.19542274, -0.2362464 ,  1.91578781],\n",
       "        [-1.02902739, -0.0368325 , -1.19542274, -0.2362464 ,  1.91578781],\n",
       "        [-1.02902739, -0.0368325 , -1.19542274, -0.2362464 ,  1.91578781],\n",
       "        [-1.02902739, -0.0368325 , -1.19542274, -0.2362464 ,  1.91578781],\n",
       "        [-1.02902739, -0.0368325 , -1.19542274, -0.2362464 ,  1.91578781]])]"
      ]
     },
     "execution_count": 11,
     "metadata": {},
     "output_type": "execute_result"
    }
   ],
   "source": [
    "sess.run(grad_2)"
   ]
  },
  {
   "cell_type": "markdown",
   "metadata": {},
   "source": [
    "## construct a simple linear regression with stop gradient\n",
    "\n",
    "\n"
   ]
  },
  {
   "cell_type": "code",
   "execution_count": 12,
   "metadata": {},
   "outputs": [],
   "source": [
    "# construct a simple linear regression\n",
    "weights = tf.get_variable(name=\"linear_weight\",shape=[10,1],dtype=tf.float32,\n",
    "                          initializer=tf.truncated_normal_initializer(stddev=0.01,mean=0))\n",
    "x = tf.constant(np.ones([5,10]),tf.float32)\n",
    "y = tf.constant(np.ones([5]),tf.float32)\n"
   ]
  },
  {
   "cell_type": "code",
   "execution_count": 24,
   "metadata": {},
   "outputs": [],
   "source": [
    "# build mask for stop gradients\n",
    "mask = tf.expand_dims(np.array([1,0,0,0,0,0,0,0,0,0.0]),1)\n",
    "mask = tf.cast(mask,tf.float32)\n",
    "mask_h = tf.abs(mask-1)\n",
    "stop_weights = tf.stop_gradient(weights * mask_h) + mask * weights"
   ]
  },
  {
   "cell_type": "code",
   "execution_count": 25,
   "metadata": {},
   "outputs": [],
   "source": [
    "y_pred = tf.matmul(x,stop_weights)"
   ]
  },
  {
   "cell_type": "code",
   "execution_count": 26,
   "metadata": {},
   "outputs": [],
   "source": [
    "sess.run(tf.global_variables_initializer())"
   ]
  },
  {
   "cell_type": "code",
   "execution_count": 27,
   "metadata": {},
   "outputs": [
    {
     "data": {
      "text/plain": [
       "25.249477"
      ]
     },
     "execution_count": 27,
     "metadata": {},
     "output_type": "execute_result"
    }
   ],
   "source": [
    "loss = tf.reduce_sum(tf.abs(y_pred-y))\n",
    "sess.run(loss)"
   ]
  },
  {
   "cell_type": "code",
   "execution_count": 28,
   "metadata": {},
   "outputs": [
    {
     "data": {
      "text/plain": [
       "array([[-0.01273185],\n",
       "       [-0.00674331],\n",
       "       [ 0.01077612],\n",
       "       [-0.00660758],\n",
       "       [ 0.01820824],\n",
       "       [ 0.00087063],\n",
       "       [ 0.00427131],\n",
       "       [ 0.01031768],\n",
       "       [-0.01086908],\n",
       "       [-0.01747131]], dtype=float32)"
      ]
     },
     "execution_count": 28,
     "metadata": {},
     "output_type": "execute_result"
    }
   ],
   "source": [
    "sess.run(weights)"
   ]
  },
  {
   "cell_type": "code",
   "execution_count": 29,
   "metadata": {},
   "outputs": [
    {
     "data": {
      "text/plain": [
       "array([[-0.01273185],\n",
       "       [-0.00674331],\n",
       "       [ 0.01077612],\n",
       "       [-0.00660758],\n",
       "       [ 0.01820824],\n",
       "       [ 0.00087063],\n",
       "       [ 0.00427131],\n",
       "       [ 0.01031768],\n",
       "       [-0.01086908],\n",
       "       [-0.01747131]], dtype=float32)"
      ]
     },
     "execution_count": 29,
     "metadata": {},
     "output_type": "execute_result"
    }
   ],
   "source": [
    "sess.run(stop_weights)"
   ]
  },
  {
   "cell_type": "code",
   "execution_count": 30,
   "metadata": {},
   "outputs": [],
   "source": [
    "# compute grad with mask\n",
    "grad = tf.gradients(loss,weights)"
   ]
  },
  {
   "cell_type": "code",
   "execution_count": 31,
   "metadata": {},
   "outputs": [
    {
     "data": {
      "text/plain": [
       "[array([[-25.],\n",
       "        [ -0.],\n",
       "        [ -0.],\n",
       "        [ -0.],\n",
       "        [ -0.],\n",
       "        [ -0.],\n",
       "        [ -0.],\n",
       "        [ -0.],\n",
       "        [ -0.],\n",
       "        [ -0.]], dtype=float32)]"
      ]
     },
     "execution_count": 31,
     "metadata": {},
     "output_type": "execute_result"
    }
   ],
   "source": [
    "sess.run(grad)"
   ]
  },
  {
   "cell_type": "code",
   "execution_count": 36,
   "metadata": {},
   "outputs": [
    {
     "data": {
      "text/plain": [
       "array([[[-2.5012732e+01],\n",
       "        [-6.7433147e-03],\n",
       "        [ 1.0776121e-02],\n",
       "        [-6.6075763e-03],\n",
       "        [ 1.8208241e-02],\n",
       "        [ 8.7063055e-04],\n",
       "        [ 4.2713061e-03],\n",
       "        [ 1.0317680e-02],\n",
       "        [-1.0869083e-02],\n",
       "        [-1.7471312e-02]]], dtype=float32)"
      ]
     },
     "execution_count": 36,
     "metadata": {},
     "output_type": "execute_result"
    }
   ],
   "source": [
    "# update new weights with gradients\n",
    "new_weights = weights + grad\n",
    "sess.run(new_weights)"
   ]
  },
  {
   "cell_type": "code",
   "execution_count": null,
   "metadata": {},
   "outputs": [],
   "source": []
  }
 ],
 "metadata": {
  "kernelspec": {
   "display_name": "Python 3",
   "language": "python",
   "name": "python3"
  },
  "language_info": {
   "codemirror_mode": {
    "name": "ipython",
    "version": 3
   },
   "file_extension": ".py",
   "mimetype": "text/x-python",
   "name": "python",
   "nbconvert_exporter": "python",
   "pygments_lexer": "ipython3",
   "version": "3.5.6"
  }
 },
 "nbformat": 4,
 "nbformat_minor": 2
}
