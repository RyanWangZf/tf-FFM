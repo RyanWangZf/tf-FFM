{
 "cells": [
  {
   "cell_type": "code",
   "execution_count": 1,
   "metadata": {},
   "outputs": [],
   "source": [
    "import os\n",
    "os.environ[\"CUDA_VISIBLE_DEVICES\"] = \"\"\n",
    "import tensorflow as tf"
   ]
  },
  {
   "cell_type": "code",
   "execution_count": 2,
   "metadata": {},
   "outputs": [],
   "source": [
    "from config import config\n",
    "from dataset import Dataset\n",
    "dataloader = Dataset(config)\n",
    "data = dataloader.get_dataset(config.val_filename,mode=\"val\")"
   ]
  },
  {
   "cell_type": "code",
   "execution_count": 4,
   "metadata": {},
   "outputs": [],
   "source": [
    "# test\n",
    "sess = tf.Session()\n",
    "res = sess.run(data)"
   ]
  },
  {
   "cell_type": "code",
   "execution_count": 6,
   "metadata": {},
   "outputs": [
    {
     "data": {
      "text/plain": [
       "SparseTensorValue(indices=array([[ 0,  0],\n",
       "       [ 0,  1],\n",
       "       [ 0,  2],\n",
       "       [ 0,  3],\n",
       "       [ 0,  4],\n",
       "       [ 0,  5],\n",
       "       [ 0,  6],\n",
       "       [ 0,  7],\n",
       "       [ 0,  8],\n",
       "       [ 0,  9],\n",
       "       [ 0, 10],\n",
       "       [ 0, 11],\n",
       "       [ 0, 12],\n",
       "       [ 0, 13],\n",
       "       [ 0, 14],\n",
       "       [ 0, 15],\n",
       "       [ 0, 16],\n",
       "       [ 0, 17],\n",
       "       [ 0, 18],\n",
       "       [ 0, 19],\n",
       "       [ 0, 20],\n",
       "       [ 0, 21],\n",
       "       [ 0, 22],\n",
       "       [ 0, 23],\n",
       "       [ 0, 24],\n",
       "       [ 0, 25],\n",
       "       [ 0, 26],\n",
       "       [ 0, 27],\n",
       "       [ 0, 28],\n",
       "       [ 0, 29],\n",
       "       [ 0, 30],\n",
       "       [ 0, 31],\n",
       "       [ 0, 32],\n",
       "       [ 0, 33],\n",
       "       [ 0, 34],\n",
       "       [ 0, 35],\n",
       "       [ 0, 36],\n",
       "       [ 0, 37],\n",
       "       [ 0, 38]]), values=array([ 88377,   5311, 240171,   7650,  70154, 238998,  50602, 120425,\n",
       "       176857, 155691, 298536, 166734,  39577, 104703, 214063,  29878,\n",
       "       167325, 120762,  55589, 286521,  83835,  60557,  96806, 273607,\n",
       "       164218,  41006,  60457, 170511, 131852, 192418, 175267,   2291,\n",
       "       116316, 230521,  61929, 242612, 104962, 181244,  33991]), dense_shape=array([ 1, 39]))"
      ]
     },
     "execution_count": 6,
     "metadata": {},
     "output_type": "execute_result"
    }
   ],
   "source": [
    "res[\"feature\"]"
   ]
  }
 ],
 "metadata": {
  "kernelspec": {
   "display_name": "Python 3",
   "language": "python",
   "name": "python3"
  },
  "language_info": {
   "codemirror_mode": {
    "name": "ipython",
    "version": 3
   },
   "file_extension": ".py",
   "mimetype": "text/x-python",
   "name": "python",
   "nbconvert_exporter": "python",
   "pygments_lexer": "ipython3",
   "version": "3.6.1"
  }
 },
 "nbformat": 4,
 "nbformat_minor": 2
}
