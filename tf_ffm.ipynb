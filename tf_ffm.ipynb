{
 "cells": [
  {
   "cell_type": "code",
   "execution_count": 2,
   "metadata": {},
   "outputs": [],
   "source": [
    "import os\n",
    "data_path = \"./data/libffm_toy\"\n",
    "tr_path = os.path.join(data_path,\"criteo.tr.r100.gbdt0.ffm\")\n",
    "va_path = os.path.join(data_path,\"criteo.va.r100.gbdt0.ffm\")"
   ]
  },
  {
   "cell_type": "code",
   "execution_count": 3,
   "metadata": {},
   "outputs": [
    {
     "name": "stdout",
     "output_type": "stream",
     "text": [
      "./data/libffm_toy/criteo.tr.r100.gbdt0.ffm\n",
      "./data/libffm_toy/criteo.va.r100.gbdt0.ffm\n"
     ]
    }
   ],
   "source": [
    "print(tr_path)\n",
    "print(va_path)"
   ]
  },
  {
   "cell_type": "code",
   "execution_count": 44,
   "metadata": {},
   "outputs": [],
   "source": [
    "def prepare_data(file_path):\n",
    "    f = open(file_path,\"r\")\n",
    "    for row in f.readlines():\n",
    "        row = row.split()\n",
    "        pass\n",
    "    f.close()\n",
    "    print(row)"
   ]
  },
  {
   "cell_type": "code",
   "execution_count": 45,
   "metadata": {},
   "outputs": [
    {
     "name": "stdout",
     "output_type": "stream",
     "text": [
      "['0', '0:194689:1', '1:340617:1', '2:659433:1', '3:349331:1', '4:623891:1', '5:939574:1', '6:287534:1', '7:514500:1', '8:869180:1', '9:530364:1', '10:124999:1', '11:832677:1', '12:961346:1', '13:172672:1', '14:226100:1', '15:981103:1', '16:237303:1', '17:397270:1', '18:182671:1', '19:692983:1', '20:645612:1', '21:198788:1', '22:153335:1', '23:780499:1', '24:748257:1', '25:462635:1', '26:229832:1', '27:485372:1', '28:975084:1', '29:166818:1', '30:683166:1', '31:998174:1', '32:614600:1', '33:362596:1', '34:541960:1', '35:797911:1', '36:326849:1', '37:335222:1', '38:975766:1']\n"
     ]
    }
   ],
   "source": [
    "prepare_data(va_path)"
   ]
  },
  {
   "cell_type": "code",
   "execution_count": null,
   "metadata": {},
   "outputs": [],
   "source": []
  }
 ],
 "metadata": {
  "kernelspec": {
   "display_name": "Python 3",
   "language": "python",
   "name": "python3"
  },
  "language_info": {
   "codemirror_mode": {
    "name": "ipython",
    "version": 3
   },
   "file_extension": ".py",
   "mimetype": "text/x-python",
   "name": "python",
   "nbconvert_exporter": "python",
   "pygments_lexer": "ipython3",
   "version": "3.6.1"
  }
 },
 "nbformat": 4,
 "nbformat_minor": 2
}
