{
 "cells": [
  {
   "cell_type": "markdown",
   "metadata": {},
   "source": [
    "### Tutorial ontf.nn.embedding_lookup_sparse"
   ]
  },
  {
   "cell_type": "code",
   "execution_count": 1,
   "metadata": {},
   "outputs": [],
   "source": [
    "import tensorflow as tf\n",
    "import numpy as np"
   ]
  },
  {
   "cell_type": "code",
   "execution_count": 2,
   "metadata": {},
   "outputs": [],
   "source": [
    "# set params\n",
    "n = 6\n",
    "f = 3\n",
    "k = 2"
   ]
  },
  {
   "cell_type": "code",
   "execution_count": 3,
   "metadata": {},
   "outputs": [],
   "source": [
    "# build embeddings\n",
    "embeddings = tf.get_variable(\"embeddings\",shape=[n,f,k],dtype=tf.float32,\n",
    "                   initializer=tf.truncated_normal_initializer(stddev=1.0,mean=0))"
   ]
  },
  {
   "cell_type": "code",
   "execution_count": 4,
   "metadata": {},
   "outputs": [
    {
     "name": "stdout",
     "output_type": "stream",
     "text": [
      "Defined embeddings: \n",
      " [[[-0.22190836  0.9851174 ]\n",
      "  [ 0.7041001   1.1924982 ]\n",
      "  [-1.0887938  -0.05284955]]\n",
      "\n",
      " [[ 0.6250706  -0.06330938]\n",
      "  [-0.26733723  0.5267984 ]\n",
      "  [-0.22102411 -0.03416568]]\n",
      "\n",
      " [[ 1.9543301   0.8465737 ]\n",
      "  [-0.29303005 -0.9815563 ]\n",
      "  [ 0.8602309  -0.0750349 ]]\n",
      "\n",
      " [[ 0.6513389  -0.6178217 ]\n",
      "  [ 1.6611365   1.3777244 ]\n",
      "  [-0.39056495 -0.21109547]]\n",
      "\n",
      " [[-1.4958913  -0.13084617]\n",
      "  [-0.7257098   0.10666375]\n",
      "  [ 1.2406721  -0.31811637]]\n",
      "\n",
      " [[-0.3088654   0.39020845]\n",
      "  [ 1.1088725  -1.9077142 ]\n",
      "  [-0.06244733 -0.2436103 ]]]\n"
     ]
    }
   ],
   "source": [
    "sess = tf.Session()\n",
    "sess.run(tf.global_variables_initializer())\n",
    "W = sess.run(embeddings)\n",
    "print(\"Defined embeddings: \\n\",W)"
   ]
  },
  {
   "cell_type": "code",
   "execution_count": null,
   "metadata": {},
   "outputs": [],
   "source": []
  },
  {
   "cell_type": "code",
   "execution_count": 5,
   "metadata": {},
   "outputs": [
    {
     "name": "stdout",
     "output_type": "stream",
     "text": [
      "sparse feature: [[0 2 5]]\n",
      "sparse values: [[1 1 1]]\n"
     ]
    }
   ],
   "source": [
    "# define samples feature and values\n",
    "feature = [0,2,5] # field_0: feat_0, field_1: feat_2, field_3: feat_3\n",
    "value = [1,1,1] # value of each selected feature\n",
    "\n",
    "# build sparse tensor\n",
    "sp_feat = tf.SparseTensor(indices=[[0,0],[0,1],[0,2]],dense_shape=[1,3],values=[0,2,5])\n",
    "print(\"sparse feature:\",sess.run(tf.sparse_tensor_to_dense(sp_feat)))\n",
    "\n",
    "sp_value = tf.SparseTensor(indices=[[0,0],[0,1],[0,2]],dense_shape=[1,3],values=[1,1,1])\n",
    "print(\"sparse values:\",sess.run(tf.sparse_tensor_to_dense(sp_value)))"
   ]
  },
  {
   "cell_type": "code",
   "execution_count": 10,
   "metadata": {},
   "outputs": [
    {
     "name": "stdout",
     "output_type": "stream",
     "text": [
      "0 1\n",
      "term: 2.3855814933776855\n",
      "0 2\n",
      "term: 0.31566837430000305\n",
      "1 2\n",
      "term: 1.097031593322754\n",
      "______________________________\n",
      "result: 3.7982814610004425\n"
     ]
    }
   ],
   "source": [
    "# real quad term\n",
    "quad_term = 0\n",
    "for i in range(f):\n",
    "    for j in range(i+1,f):\n",
    "        print(i,j)\n",
    "        vi_fj = W[feature[i],j]\n",
    "        vj_fi = W[feature[j],i]\n",
    "        term = vi_fj.dot(vj_fi) * value[i] * value[j]\n",
    "        print(\"term:\",term)\n",
    "        quad_term += term\n",
    "print(\"___\"*10)\n",
    "print(\"result:\",quad_term)"
   ]
  },
  {
   "cell_type": "code",
   "execution_count": 22,
   "metadata": {},
   "outputs": [
    {
     "name": "stdout",
     "output_type": "stream",
     "text": [
      "-2.6580039858818054\n"
     ]
    }
   ],
   "source": [
    "quad_term = 0\n",
    "# TODO: It is still something wrong here !\n",
    "for i in range(f):\n",
    "    for j in range(i+1,f):\n",
    "        vi_fj = tf.nn.embedding_lookup_sparse(W[:,i,:],sp_feat,sp_value,combiner=\"sum\")\n",
    "        vj_fi = tf.nn.embedding_lookup_sparse(W[:,j,:],sp_feat,sp_value,combiner=\"sum\")\n",
    "        term = tf.reduce_sum(vi_fj * vj_fi,axis=1)\n",
    "        res = sess.run(term)\n",
    "        quad_term += res[0]\n",
    "print(\"result:quad_term)"
   ]
  },
  {
   "cell_type": "code",
   "execution_count": 12,
   "metadata": {},
   "outputs": [
    {
     "data": {
      "text/plain": [
       "TensorShape([Dimension(None), Dimension(2)])"
      ]
     },
     "execution_count": 12,
     "metadata": {},
     "output_type": "execute_result"
    }
   ],
   "source": [
    "res.shape"
   ]
  },
  {
   "cell_type": "code",
   "execution_count": null,
   "metadata": {},
   "outputs": [],
   "source": []
  }
 ],
 "metadata": {
  "kernelspec": {
   "display_name": "Python 3",
   "language": "python",
   "name": "python3"
  },
  "language_info": {
   "codemirror_mode": {
    "name": "ipython",
    "version": 3
   },
   "file_extension": ".py",
   "mimetype": "text/x-python",
   "name": "python",
   "nbconvert_exporter": "python",
   "pygments_lexer": "ipython3",
   "version": "3.5.6"
  }
 },
 "nbformat": 4,
 "nbformat_minor": 2
}
