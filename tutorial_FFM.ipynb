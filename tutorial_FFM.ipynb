{
 "cells": [
  {
   "cell_type": "markdown",
   "metadata": {},
   "source": [
    "### Compare the performances of LOOP with features and fields."
   ]
  },
  {
   "cell_type": "code",
   "execution_count": 1,
   "metadata": {},
   "outputs": [],
   "source": [
    "import tensorflow as tf\n",
    "import numpy as np\n",
    "import pandas as pd"
   ]
  },
  {
   "cell_type": "code",
   "execution_count": 12,
   "metadata": {},
   "outputs": [
    {
     "name": "stdout",
     "output_type": "stream",
     "text": [
      "[[[-0.2974311  -0.26403688  0.43285659  1.32269316]\n",
      "  [-0.49372644  1.14175994  0.58952275 -0.56889684]\n",
      "  [ 0.10860257 -1.92531645 -0.17190988  0.21476235]\n",
      "  [ 0.60791481 -0.94729017  0.22089872  0.11829972]\n",
      "  [-0.12416327 -0.28754772 -0.57793408  0.00845304]\n",
      "  [ 0.51323173 -1.10031622 -1.76048657 -0.72517967]\n",
      "  [ 0.67438035  0.11981858  1.14476829 -0.18671926]]\n",
      "\n",
      " [[ 0.36063509  0.47473618  0.28707298  0.18713919]\n",
      "  [ 0.86396889  1.23263192 -0.44019654  0.91177549]\n",
      "  [-0.47146091  0.43794618 -0.86941983 -2.51531271]\n",
      "  [-1.25207838  0.27226299  0.77329991 -1.25585189]\n",
      "  [ 0.54396211  0.07877496 -0.78496466 -0.3813932 ]\n",
      "  [-0.1192101  -0.86986302  0.51186984  2.6671533 ]\n",
      "  [-0.68795639  1.40267401  0.16988223 -0.47229874]]\n",
      "\n",
      " [[-1.29606882  0.16559534 -1.15472867  0.13239908]\n",
      "  [ 1.92725691 -1.23519501  0.65558832 -1.48438521]\n",
      "  [ 1.43103247 -0.8477937   2.17991772 -0.80015178]\n",
      "  [ 2.06951414  0.27575477  1.79633282 -1.52786122]\n",
      "  [ 0.45247908  1.01167951 -0.16633521 -0.23446199]\n",
      "  [ 2.57373321  0.41963496 -0.51443772 -0.81467596]\n",
      "  [ 1.45148277  0.72282161  0.56894015  0.76229499]]\n",
      "\n",
      " [[-0.24447762  1.25132912 -2.14376739  1.3860326 ]\n",
      "  [-0.56096554 -1.17492125  1.09105575  0.4524231 ]\n",
      "  [-1.414495   -1.24813898 -0.59058117  1.45501053]\n",
      "  [ 2.15807492 -0.1528257   0.12034679  1.15820624]\n",
      "  [-1.43013665 -0.49784163  1.3104027   1.05377395]\n",
      "  [-0.50077188  0.11294717  0.49019461 -0.3302165 ]\n",
      "  [ 0.80798917  0.8974102   0.59282328 -1.16922758]]]\n"
     ]
    }
   ],
   "source": [
    "n,f,k = 7,4,4\n",
    "W = np.random.randn(f,n,k)\n",
    "print(W)"
   ]
  },
  {
   "cell_type": "code",
   "execution_count": 13,
   "metadata": {},
   "outputs": [
    {
     "name": "stdout",
     "output_type": "stream",
     "text": [
      "term: -0.6318166884956133\n",
      "vi_fj: [ 0.86396889  1.23263192 -0.44019654  0.91177549]\n",
      "vj_fi: [ 0.60791481 -0.94729017  0.22089872  0.11829972]\n",
      "1 3\n",
      "______________________________\n",
      "term: -0.27555141827107094\n",
      "vi_fj: [ 1.92725691 -1.23519501  0.65558832 -1.48438521]\n",
      "vj_fi: [-0.12416327 -0.28754772 -0.57793408  0.00845304]\n",
      "1 4\n",
      "______________________________\n",
      "term: 0.3227241977554125\n",
      "vi_fj: [-0.56096554 -1.17492125  1.09105575  0.4524231 ]\n",
      "vj_fi: [ 0.67438035  0.11981858  1.14476829 -0.18671926]\n",
      "1 6\n",
      "______________________________\n",
      "term: 0.3201179392944359\n",
      "vi_fj: [ 2.06951414  0.27575477  1.79633282 -1.52786122]\n",
      "vj_fi: [ 0.54396211  0.07877496 -0.78496466 -0.3813932 ]\n",
      "3 4\n",
      "______________________________\n",
      "term: -1.1128003238058477\n",
      "vi_fj: [ 2.15807492 -0.1528257   0.12034679  1.15820624]\n",
      "vj_fi: [-0.68795639  1.40267401  0.16988223 -0.47229874]\n",
      "3 6\n",
      "______________________________\n",
      "term: -0.4434210464782254\n",
      "vi_fj: [-1.43013665 -0.49784163  1.3104027   1.05377395]\n",
      "vj_fi: [1.45148277 0.72282161 0.56894015 0.76229499]\n",
      "4 6\n",
      "______________________________\n",
      "final quad term: -1.8207473400009089\n",
      "iter: 21\n"
     ]
    }
   ],
   "source": [
    "# Theoretically, yhat = sum_i_j( <vi_fj, vj_fi> * xj * xi)\n",
    "feature2field = {0:0,\n",
    "                         1:0,\n",
    "                         2:1,\n",
    "                         3:1,\n",
    "                         4:2,\n",
    "                         5:2,\n",
    "                         6:3} # the last feature is a numerical one\n",
    "\n",
    "# loop with feature\n",
    "feature = [0,1,0,1,1,0,0.5]\n",
    "quad_term = 0\n",
    "iter_count = 0\n",
    "for i in range(n):\n",
    "    for j in range(i+1,n):\n",
    "        vi_fj = W[feature2field[j],i]\n",
    "        vj_fi = W[feature2field[i],j]\n",
    "        term = np.dot(vi_fj,vj_fi) * feature[i] * feature[j]\n",
    "        iter_count += 1\n",
    "        if term != 0:\n",
    "            quad_term += term\n",
    "            print(\"term:\",term)\n",
    "            print(\"vi_fj:\",vi_fj)\n",
    "            print(\"vj_fi:\",vj_fi)\n",
    "            print(i,j)\n",
    "            # print(\"quad_term:\",quad_term)\n",
    "            print(\"___\"*10)\n",
    "print(\"final quad term:\",quad_term)\n",
    "print(\"iter:\",iter_count)\n",
    "\n",
    "        "
   ]
  },
  {
   "cell_type": "code",
   "execution_count": 43,
   "metadata": {},
   "outputs": [
    {
     "name": "stdout",
     "output_type": "stream",
     "text": [
      "0 1\n",
      "vi_fj: [0.36063509 0.47473618 0.28707298 0.18713919]\n",
      "vj_fi: [ 0.10860257 -1.92531645 -0.17190988  0.21476235]\n",
      "term: -0.8840117015101935\n",
      "______________________________\n",
      "0 2\n",
      "vi_fj: [-1.29606882  0.16559534 -1.15472867  0.13239908]\n",
      "vj_fi: [-0.12416327 -0.28754772 -0.57793408  0.00845304]\n",
      "term: 0.7817838083004043\n",
      "______________________________\n",
      "0 3\n",
      "1 2\n",
      "vi_fj: [ 1.43103247 -0.8477937   2.17991772 -0.80015178]\n",
      "vj_fi: [ 0.54396211  0.07877496 -0.78496466 -0.3813932 ]\n",
      "term: -0.694343418636171\n",
      "______________________________\n",
      "1 3\n",
      "2 3\n",
      "final result: -0.7965713118459602\n",
      "iter: 6\n"
     ]
    }
   ],
   "source": [
    "# loop with field,suits only one filed is ONE one-hot feature.\n",
    "\n",
    "# feature = [1,3,4,6] # [field_0 : feature_1, field_1: feature_3, ...]\n",
    "# value = [1,1,1,0.5] # [feature_0 : 1, feature_2: 1, ...]\n",
    "# feature = [1,2,4,6]\n",
    "# value = [1,1,1,-0.5]\n",
    "feature = [0,2,4,6]\n",
    "value = [1,1,1,0]\n",
    "\n",
    "quad_term = 0\n",
    "iter_count = 0\n",
    "for i in range(f):\n",
    "    for j in range(i+1,f):\n",
    "        print(i,j)\n",
    "        vi_fj = W[j,feature[i]]\n",
    "        vj_fi = W[i,feature[j]]\n",
    "        term = vi_fj.dot(vj_fi) * value[i] * value[j]\n",
    "        iter_count += 1\n",
    "        if term != 0:\n",
    "            quad_term += term\n",
    "            print(\"vi_fj:\",vi_fj)\n",
    "            print(\"vj_fi:\",vj_fi)\n",
    "            print(\"term:\",term)\n",
    "            print(\"___\"*10)\n",
    "print(\"final result:\",quad_term)\n",
    "print(\"iter:\",iter_count)"
   ]
  },
  {
   "cell_type": "code",
   "execution_count": 49,
   "metadata": {},
   "outputs": [
    {
     "name": "stdout",
     "output_type": "stream",
     "text": [
      "0 1\n",
      "0 2\n",
      "0 3\n",
      "1 2\n",
      "1 3\n",
      "2 3\n"
     ]
    }
   ],
   "source": [
    "# loop with fields, two samples\n",
    "feature = np.array([[1,3,4,6],[1,2,4,6],[0,2,4,6]]) # [field_0 : feature_1, field_1: feature_3, ...]\n",
    "value = np.array([[1,1,1,0.5],[1,1,1,-0.5],[1,1,1,0]]) # [feature_0 : 1, feature_2: 1, ...]\n",
    "quad_term = None\n",
    "for i in range(f):\n",
    "    for j in range(i+1,f):\n",
    "        vi_fj = W[j,feature[:,i]]\n",
    "        vj_fi = W[i,feature[:,j]]\n",
    "        if quad_term is None:\n",
    "            quad_term = np.dot(vi_fj,vj_fi.T)* value[:,i] * value[:,j]\n",
    "        else:\n",
    "            quad_term += np.dot(vi_fj,vj_fi.T) * value[:,i] * value[:,j]\n",
    "        print(i,j)\n",
    "quad_term = np.diag(quad_term)"
   ]
  },
  {
   "cell_type": "code",
   "execution_count": 50,
   "metadata": {},
   "outputs": [
    {
     "name": "stdout",
     "output_type": "stream",
     "text": [
      "[-1.82074734 -2.07451102 -0.79657131]\n"
     ]
    }
   ],
   "source": [
    "print(quad_term)"
   ]
  },
  {
   "cell_type": "code",
   "execution_count": null,
   "metadata": {},
   "outputs": [],
   "source": []
  }
 ],
 "metadata": {
  "kernelspec": {
   "display_name": "Python 3",
   "language": "python",
   "name": "python3"
  },
  "language_info": {
   "codemirror_mode": {
    "name": "ipython",
    "version": 3
   },
   "file_extension": ".py",
   "mimetype": "text/x-python",
   "name": "python",
   "nbconvert_exporter": "python",
   "pygments_lexer": "ipython3",
   "version": "3.5.6"
  }
 },
 "nbformat": 4,
 "nbformat_minor": 2
}
