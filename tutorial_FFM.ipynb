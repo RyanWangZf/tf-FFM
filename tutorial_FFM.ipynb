{
 "cells": [
  {
   "cell_type": "markdown",
   "metadata": {},
   "source": [
    "### Compare the performances of LOOP with features and fields."
   ]
  },
  {
   "cell_type": "code",
   "execution_count": 2,
   "metadata": {},
   "outputs": [],
   "source": [
    "import tensorflow as tf\n",
    "import numpy as np\n",
    "import pandas as pd"
   ]
  },
  {
   "cell_type": "code",
   "execution_count": 63,
   "metadata": {},
   "outputs": [
    {
     "name": "stdout",
     "output_type": "stream",
     "text": [
      "[[[  0   1   2   3]\n",
      "  [  4   5   6   7]\n",
      "  [  8   9  10  11]\n",
      "  [ 12  13  14  15]]\n",
      "\n",
      " [[ 16  17  18  19]\n",
      "  [ 20  21  22  23]\n",
      "  [ 24  25  26  27]\n",
      "  [ 28  29  30  31]]\n",
      "\n",
      " [[ 32  33  34  35]\n",
      "  [ 36  37  38  39]\n",
      "  [ 40  41  42  43]\n",
      "  [ 44  45  46  47]]\n",
      "\n",
      " [[ 48  49  50  51]\n",
      "  [ 52  53  54  55]\n",
      "  [ 56  57  58  59]\n",
      "  [ 60  61  62  63]]\n",
      "\n",
      " [[ 64  65  66  67]\n",
      "  [ 68  69  70  71]\n",
      "  [ 72  73  74  75]\n",
      "  [ 76  77  78  79]]\n",
      "\n",
      " [[ 80  81  82  83]\n",
      "  [ 84  85  86  87]\n",
      "  [ 88  89  90  91]\n",
      "  [ 92  93  94  95]]\n",
      "\n",
      " [[ 96  97  98  99]\n",
      "  [100 101 102 103]\n",
      "  [104 105 106 107]\n",
      "  [108 109 110 111]]]\n"
     ]
    }
   ],
   "source": [
    "n,f,k = 7,4,4\n",
    "weights = tf.reshape(tf.range(0,n*f*k),[n,f,k])\n",
    "W = sess.run(weights) # n,f,k\n",
    "print(W)"
   ]
  },
  {
   "cell_type": "code",
   "execution_count": 66,
   "metadata": {},
   "outputs": [
    {
     "name": "stdout",
     "output_type": "stream",
     "text": [
      "term: 4262\n",
      "vi_fj: [20 21 22 23]\n",
      "vj_fi: [48 49 50 51]\n",
      "1 3\n",
      "______________________________\n",
      "term: 6686\n",
      "vi_fj: [24 25 26 27]\n",
      "vj_fi: [64 65 66 67]\n",
      "1 4\n",
      "______________________________\n",
      "term: 5755.0\n",
      "vi_fj: [28 29 30 31]\n",
      "vj_fi: [96 97 98 99]\n",
      "1 6\n",
      "______________________________\n",
      "term: 15990\n",
      "vi_fj: [56 57 58 59]\n",
      "vj_fi: [68 69 70 71]\n",
      "3 4\n",
      "______________________________\n",
      "term: 12487.0\n",
      "vi_fj: [60 61 62 63]\n",
      "vj_fi: [100 101 102 103]\n",
      "3 6\n",
      "______________________________\n",
      "term: 16355.0\n",
      "vi_fj: [76 77 78 79]\n",
      "vj_fi: [104 105 106 107]\n",
      "4 6\n",
      "______________________________\n",
      "final quad term: 61535.0\n",
      "iter: 21\n"
     ]
    }
   ],
   "source": [
    "# Theoretically, yhat = sum_i_j( <vi_fj, vj_fi> * xj * xi)\n",
    "feature2field = {0:0,\n",
    "                         1:0,\n",
    "                         2:1,\n",
    "                         3:1,\n",
    "                         4:2,\n",
    "                         5:2,\n",
    "                         6:3} # the last feature is a numerical one\n",
    "\n",
    "# loop with feature\n",
    "feature = [0,1,0,1,1,0,0.5]\n",
    "quad_term = 0\n",
    "iter_count = 0\n",
    "for i in range(n):\n",
    "    for j in range(i+1,n):\n",
    "        vi_fj = W[i,feature2field[j]]\n",
    "        vj_fi = W[j,feature2field[i]]\n",
    "        term = np.dot(vi_fj,vj_fi) * feature[i] * feature[j]\n",
    "        iter_count += 1\n",
    "        if term != 0:\n",
    "            quad_term += term\n",
    "            print(\"term:\",term)\n",
    "            print(\"vi_fj:\",vi_fj)\n",
    "            print(\"vj_fi:\",vj_fi)\n",
    "            print(i,j)\n",
    "            # print(\"quad_term:\",quad_term)\n",
    "            print(\"___\"*10)\n",
    "print(\"final quad term:\",quad_term)\n",
    "print(\"iter:\",iter_count)\n",
    "\n",
    "        "
   ]
  },
  {
   "cell_type": "code",
   "execution_count": 67,
   "metadata": {},
   "outputs": [
    {
     "name": "stdout",
     "output_type": "stream",
     "text": [
      "0 1\n",
      "vi_fj: [20 21 22 23]\n",
      "vj_fi: [48 49 50 51]\n",
      "term: 4262\n",
      "______________________________\n",
      "0 2\n",
      "vi_fj: [24 25 26 27]\n",
      "vj_fi: [64 65 66 67]\n",
      "term: 6686\n",
      "______________________________\n",
      "0 3\n",
      "vi_fj: [28 29 30 31]\n",
      "vj_fi: [96 97 98 99]\n",
      "term: 5755.0\n",
      "______________________________\n",
      "1 2\n",
      "vi_fj: [56 57 58 59]\n",
      "vj_fi: [68 69 70 71]\n",
      "term: 15990\n",
      "______________________________\n",
      "1 3\n",
      "vi_fj: [60 61 62 63]\n",
      "vj_fi: [100 101 102 103]\n",
      "term: 12487.0\n",
      "______________________________\n",
      "2 3\n",
      "vi_fj: [76 77 78 79]\n",
      "vj_fi: [104 105 106 107]\n",
      "term: 16355.0\n",
      "______________________________\n",
      "final result: 61535.0\n",
      "iter: 6\n"
     ]
    }
   ],
   "source": [
    "# loop with field,suits only one filed is ONE one-hot feature.\n",
    "feature = [1,3,4,6] # [field_0 : feature_1, field_1: feature_3, ...]\n",
    "value = [1,1,1,0.5] # [feature_0 : 1, feature_2: 1, ...]\n",
    "quad_term = 0\n",
    "iter_count = 0\n",
    "for i in range(f):\n",
    "    for j in range(i+1,f):\n",
    "        print(i,j)\n",
    "        vi_fj = W[feature[i],j]\n",
    "        vj_fi = W[feature[j],i]\n",
    "        term = vi_fj.dot(vj_fi) * value[i] * value[j]\n",
    "        iter_count += 1\n",
    "        if term != 0:\n",
    "            quad_term += term\n",
    "            print(\"vi_fj:\",vi_fj)\n",
    "            print(\"vj_fi:\",vj_fi)\n",
    "            print(\"term:\",term)\n",
    "            print(\"___\"*10)\n",
    "print(\"final result:\",quad_term)\n",
    "print(\"iter:\",iter_count)"
   ]
  }
 ],
 "metadata": {
  "kernelspec": {
   "display_name": "Python 3",
   "language": "python",
   "name": "python3"
  },
  "language_info": {
   "codemirror_mode": {
    "name": "ipython",
    "version": 3
   },
   "file_extension": ".py",
   "mimetype": "text/x-python",
   "name": "python",
   "nbconvert_exporter": "python",
   "pygments_lexer": "ipython3",
   "version": "3.5.6"
  }
 },
 "nbformat": 4,
 "nbformat_minor": 2
}
